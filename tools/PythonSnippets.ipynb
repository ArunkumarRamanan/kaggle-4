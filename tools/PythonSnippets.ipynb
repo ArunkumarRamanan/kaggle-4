{
 "cells": [
  {
   "cell_type": "markdown",
   "metadata": {},
   "source": [
    "# XGBoost snippents"
   ]
  },
  {
   "cell_type": "markdown",
   "metadata": {},
   "source": [
    "Snippets for <a href=\"https://github.com/dmlc/xgboost\">XGBoost</a> library."
   ]
  },
  {
   "cell_type": "code",
   "execution_count": 3,
   "metadata": {
    "collapsed": true
   },
   "outputs": [],
   "source": [
    "def create_feature_map(fmap_filename, features):\n",
    "    \"\"\"\n",
    "    features: enumerable of feature names\n",
    "    \"\"\"\n",
    "    with open(fmap_filename, 'w') as f:\n",
    "        for i, feature in enumerate(features):\n",
    "            f.write('{0}\\t{1}\\tq\\n'.format(i, feature))"
   ]
  },
  {
   "cell_type": "markdown",
   "metadata": {},
   "source": [
    "# Feature engineering snippets"
   ]
  },
  {
   "cell_type": "markdown",
   "metadata": {},
   "source": [
    "Computing <a href=\"https://en.wikipedia.org/wiki/Normalized_compression_distance\">Normalized compression distance</a> between two strings using bz2 library."
   ]
  },
  {
   "cell_type": "code",
   "execution_count": 4,
   "metadata": {
    "collapsed": true
   },
   "outputs": [],
   "source": [
    "import bz2\n",
    "def ncd(str1, str2):\n",
    "    cx = len(bz2.compress(bytes(str1, 'utf-8')))\n",
    "    cy = len(bz2.compress(bytes(str2, 'utf-8')))\n",
    "    cxy = len(bz2.compress(bytes(str1 + str2, 'utf-8')))\n",
    "    return (cxy - min(cx, cy)) / max(cx, cy)"
   ]
  },
  {
   "cell_type": "markdown",
   "metadata": {},
   "source": [
    "\n",
    "\n"
   ]
  }
 ],
 "metadata": {
  "kernelspec": {
   "display_name": "Python 3",
   "language": "python",
   "name": "python3"
  },
  "language_info": {
   "codemirror_mode": {
    "name": "ipython",
    "version": 3
   },
   "file_extension": ".py",
   "mimetype": "text/x-python",
   "name": "python",
   "nbconvert_exporter": "python",
   "pygments_lexer": "ipython3",
   "version": "3.5.2"
  }
 },
 "nbformat": 4,
 "nbformat_minor": 0
}
